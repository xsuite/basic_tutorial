{
 "cells": [
  {
   "cell_type": "code",
   "execution_count": 1,
   "id": "6f128611",
   "metadata": {},
   "outputs": [
    {
     "name": "stdout",
     "output_type": "stream",
     "text": [
      "Done loading line from dict.           \n",
      "Done loading line from dict.           \n",
      "Done loading line from dict.           \n",
      "Done loading line from dict.           \n",
      "Compiling ContextCpu kernels...\n",
      "Done compiling ContextCpu kernels.\n",
      "Compiling ContextCpu kernels...\n",
      "Done compiling ContextCpu kernels.\n",
      "Compiling ContextCpu kernels...\n",
      "Done compiling ContextCpu kernels.\n",
      "Compiling ContextCpu kernels...\n",
      "Done compiling ContextCpu kernels.\n"
     ]
    }
   ],
   "source": [
    "%matplotlib widget\n",
    "\n",
    "import numpy as np\n",
    "import matplotlib.pyplot as plt\n",
    "\n",
    "import xpart as xp\n",
    "import xtrack as xt\n",
    "\n",
    "fname_model = './generate_models/lhc_at_injection_obstacle.json'\n",
    "\n",
    "collider = xt.Multiline.from_json(fname_model)\n",
    "collider.build_trackers()\n",
    "\n",
    "nemitt_x = 3.5e-6\n",
    "nemitt_y = 3.5e-6\n",
    "num_particles = 1000"
   ]
  },
  {
   "cell_type": "markdown",
   "id": "8dca0356",
   "metadata": {},
   "source": [
    "## Investigating an obstacle\n",
    "\n",
    "We start by twissing. We need to build a bunch of particles. Since we will reuse the bunch later, we copy it as a template."
   ]
  },
  {
   "cell_type": "code",
   "execution_count": 2,
   "id": "eb1c81e2",
   "metadata": {},
   "outputs": [
    {
     "name": "stdout",
     "output_type": "stream",
     "text": [
      "*** Maximum RMS bunch length 0.11789515101464537m.\n",
      "... distance to target bunch length: -1.0000e-01\n",
      "... distance to target bunch length: 1.4638e-02\n",
      "... distance to target bunch length: 1.3573e-02\n",
      "... distance to target bunch length: -1.0721e-03\n",
      "... distance to target bunch length: 1.6142e-03\n",
      "... distance to target bunch length: 7.1106e-05\n",
      "... distance to target bunch length: 2.9063e-06\n",
      "... distance to target bunch length: -4.0654e-10\n",
      "... distance to target bunch length: 1.9477e-07\n",
      "--> Bunch length: 0.09999999959345827\n",
      "--> Emittance: 0.6422072248004196\n",
      "Warning! scale_with_transverse_norm_emitt is deprecated. Use nemitt_x and nemitt_y instead.\n"
     ]
    }
   ],
   "source": [
    "bunch = xp.generate_matched_gaussian_bunch(\n",
    "    line=collider.lhcb1,\n",
    "    sigma_z=10e-2,\n",
    "    nemitt_x=nemitt_x,\n",
    "    nemitt_y=nemitt_y,\n",
    "    num_particles=num_particles,\n",
    ")\n",
    "\n",
    "# We keep a copy of the genereated bunch (we'll used it later)\n",
    "bunch0 = bunch.copy()"
   ]
  },
  {
   "cell_type": "markdown",
   "id": "b2b5b883",
   "metadata": {},
   "source": [
    "### Track the bunch\n",
    "\n",
    "We track the bunch and observe the losses:"
   ]
  },
  {
   "cell_type": "code",
   "execution_count": 4,
   "id": "991ef5b7",
   "metadata": {},
   "outputs": [],
   "source": [
    "collider.lhcb1.track(bunch, num_turns=5)"
   ]
  },
  {
   "cell_type": "markdown",
   "id": "00c9ac62",
   "metadata": {},
   "source": [
    "We check how many particles are lost"
   ]
  },
  {
   "cell_type": "code",
   "execution_count": 5,
   "id": "652db994",
   "metadata": {},
   "outputs": [
    {
     "name": "stdout",
     "output_type": "stream",
     "text": [
      "Lost beam fraction: 35.10%\n"
     ]
    }
   ],
   "source": [
    "print(f'Lost beam fraction: {np.sum(bunch.state <= 0)/num_particles*100:.2f}%')"
   ]
  },
  {
   "cell_type": "markdown",
   "id": "a19cf8fc",
   "metadata": {},
   "source": [
    "To find out where we lose the particles, we filter them, and inspect the element where the losses occur:"
   ]
  },
  {
   "cell_type": "code",
   "execution_count": 6,
   "id": "21433e72",
   "metadata": {},
   "outputs": [
    {
     "name": "stdout",
     "output_type": "stream",
     "text": [
      "The element where we lose most particles is called `obstacle`!!!!\n"
     ]
    }
   ],
   "source": [
    "lost_particles = bunch.filter(bunch.state <= 0)\n",
    "\n",
    "# Find the name of the element where we lose most particles\n",
    "from collections import Counter\n",
    "i_most_losses = Counter(lost_particles.at_element).most_common(1)[0][0]\n",
    "\n",
    "print(f'The element where we lose most particles is called `{collider.lhcb1.element_names[i_most_losses]}`!!!!')"
   ]
  },
  {
   "cell_type": "markdown",
   "id": "7e8125a6",
   "metadata": {},
   "source": [
    "### Plot the lost particles at the obstacle\n",
    "\n",
    "The element where we lose the particles is of an aperture type:"
   ]
  },
  {
   "cell_type": "code",
   "execution_count": 8,
   "id": "fa76daf1",
   "metadata": {},
   "outputs": [
    {
     "data": {
      "text/plain": [
       "<xtrack.beam_elements.apertures.LimitPolygon at 0x7f0a5dd366a0>"
      ]
     },
     "execution_count": 8,
     "metadata": {},
     "output_type": "execute_result"
    }
   ],
   "source": [
    "collider.lhcb1.elements[i_most_losses]"
   ]
  },
  {
   "cell_type": "markdown",
   "id": "d291e7ee",
   "metadata": {},
   "source": [
    "We can plot the lost particles and the obstacle cross-section:"
   ]
  },
  {
   "cell_type": "code",
   "execution_count": 9,
   "id": "d0fef11d",
   "metadata": {},
   "outputs": [
    {
     "data": {
      "application/vnd.jupyter.widget-view+json": {
       "model_id": "48e2fa51e069468ba485cd9286a43369",
       "version_major": 2,
       "version_minor": 0
      },
      "text/plain": [
       "Canvas(toolbar=Toolbar(toolitems=[('Home', 'Reset original view', 'home', 'home'), ('Back', 'Back to previous …"
      ]
     },
     "metadata": {},
     "output_type": "display_data"
    },
    {
     "data": {
      "text/plain": [
       "[<matplotlib.lines.Line2D at 0x7f0a5e871be0>]"
      ]
     },
     "execution_count": 9,
     "metadata": {},
     "output_type": "execute_result"
    }
   ],
   "source": [
    "# Plot the lost particles and the obstacle\n",
    "obstacle = collider.lhcb1['obstacle']\n",
    "fig, ax = plt.subplots()\n",
    "ax.plot(lost_particles.x, lost_particles.y, '.', markersize=1)\n",
    "ax.plot(obstacle.x_vertices, obstacle.y_vertices, 'k')"
   ]
  },
  {
   "cell_type": "markdown",
   "id": "3aa3881d",
   "metadata": {},
   "source": [
    "### Correct the orbit to avoid the obstacle\n",
    "\n",
    "Find the accelerator element closest to the obstacle:"
   ]
  },
  {
   "cell_type": "code",
   "execution_count": 11,
   "id": "8eed85b8",
   "metadata": {},
   "outputs": [
    {
     "data": {
      "text/plain": [
       "TwissTable: 8 rows, 47 cols\n",
       "name                               s           x           px            y ...\n",
       "mb.c15r8.b1..1               17296.5 1.68121e-06  -2.1669e-08 -2.04115e-07\n",
       "drift_7471                   17296.5 1.68121e-06 -1.82169e-08 -2.04115e-07\n",
       "obstacle                     17301.2 1.59437e-06 -1.82169e-08 -2.19192e-07\n",
       "chamber                      17301.2 1.59437e-06 -1.82169e-08 -2.19192e-07\n",
       "mb.c15r8.b1                  17301.2 1.59437e-06 -1.82169e-08 -2.19192e-07\n",
       "drift_7472                   17301.2 1.59437e-06 -1.82169e-08 -2.19192e-07\n",
       "mb.c15r8.b1..2                 17306 1.50754e-06 -1.82169e-08  -2.3427e-07\n",
       "drift_7473                     17306 1.50754e-06 -1.47646e-08  -2.3427e-07"
      ]
     },
     "execution_count": 11,
     "metadata": {},
     "output_type": "execute_result"
    }
   ],
   "source": [
    "tw = collider.lhcb1.twiss()\n",
    "s_obstacle = tw['s', 'obstacle']\n",
    "\n",
    "tw.rows[s_obstacle-5.:s_obstacle+5.:'s']"
   ]
  },
  {
   "cell_type": "code",
   "execution_count": 12,
   "id": "801707ef",
   "metadata": {},
   "outputs": [],
   "source": [
    "element_close_to_obstacle = 'mb.c15r8.b1'"
   ]
  },
  {
   "cell_type": "markdown",
   "id": "1f033cab",
   "metadata": {},
   "source": [
    "Find the vertical correctors close to the obstacle:"
   ]
  },
  {
   "cell_type": "code",
   "execution_count": 13,
   "id": "e99e89ca",
   "metadata": {},
   "outputs": [
    {
     "data": {
      "text/plain": [
       "TwissTable: 2 rows, 47 cols\n",
       "name                               s           x          px            y ...\n",
       "mcbv.11r8.b1                   17101 1.63309e-06  1.1516e-08  2.39107e-07\n",
       "mcbv.13r8.b1                 17207.9 1.32796e-06 1.71837e-08 -4.27231e-08"
      ]
     },
     "execution_count": 13,
     "metadata": {},
     "output_type": "execute_result"
    }
   ],
   "source": [
    "# Correctors upstream\n",
    "tw.rows[s_obstacle-300.:s_obstacle:'s', 'mcbv.*']"
   ]
  },
  {
   "cell_type": "code",
   "execution_count": 14,
   "id": "9e1f7cce",
   "metadata": {},
   "outputs": [
    {
     "data": {
      "text/plain": [
       "TwissTable: 3 rows, 47 cols\n",
       "name                               s           x          px            y ...\n",
       "mcbv.15r8.b1                 17314.8   1.474e-06 2.39467e-08 -2.45224e-07\n",
       "mcbv.17r8.b1                 17421.7 1.62308e-06 2.18696e-08   4.2666e-08\n",
       "mcbv.19r8.b1                 17528.6 1.47708e-06  1.5106e-08  2.45234e-07"
      ]
     },
     "execution_count": 14,
     "metadata": {},
     "output_type": "execute_result"
    }
   ],
   "source": [
    "# Correctors downstream\n",
    "tw.rows[s_obstacle:s_obstacle+300.:'s', 'mcbv.*']"
   ]
  },
  {
   "cell_type": "markdown",
   "id": "e3d8e967",
   "metadata": {},
   "source": [
    "Find out the knob that controls the corrector:"
   ]
  },
  {
   "cell_type": "code",
   "execution_count": 15,
   "id": "ae6228f5",
   "metadata": {},
   "outputs": [
    {
     "data": {
      "text/plain": [
       "vars['acbv15.r8b1']"
      ]
     },
     "execution_count": 15,
     "metadata": {},
     "output_type": "execute_result"
    }
   ],
   "source": [
    "v_corr = 'mcbv.15r8.b1' # We check only one (the others follow the same naming convention)\n",
    "collider.lhcb1.element_refs[v_corr].ksl[0]._expr"
   ]
  },
  {
   "cell_type": "markdown",
   "id": "1d5b0532",
   "metadata": {},
   "source": [
    "Perform a match to move the beam vertically at the obstacle:"
   ]
  },
  {
   "cell_type": "code",
   "execution_count": 16,
   "id": "9f4d13e5",
   "metadata": {},
   "outputs": [
    {
     "name": "stdout",
     "output_type": "stream",
     "text": [
      "Matching: twiss call n. 14       \n",
      "\n"
     ]
    },
    {
     "data": {
      "text/plain": [
       "{'res': array([1.41071721e-04, 4.94191561e-05, 1.38307965e-04, 5.39739016e-05]),\n",
       " 'info': {'nfev': 3,\n",
       "  'njev': 1,\n",
       "  'fjac': array([[-0.01515282,  0.34369272,  0.02433904, -0.93864441],\n",
       "         [-0.06472875, -0.9367265 ,  0.04764805, -0.34071001],\n",
       "         [ 0.9279103 , -0.06508155, -0.36389453, -0.04824548],\n",
       "         [ 0.36682836,  0.01353392,  0.92990217,  0.0231461 ]]),\n",
       "  'r': array([-2437.71715349,  1759.18644455,  2222.60880003,  -937.48083101,\n",
       "         -1909.72972861,   809.7158334 ,  -338.37052968,    92.76109256,\n",
       "           -65.78300285,    67.96581106]),\n",
       "  'qtf': array([-4.31559301e-05,  1.94365551e-04,  7.40094962e-06, -5.86443612e-07]),\n",
       "  'fvec': array([ 0.,  0.,  0., -0.])},\n",
       " 'ier': 1,\n",
       " 'mesg': 'The solution converged.'}"
      ]
     },
     "execution_count": 16,
     "metadata": {},
     "output_type": "execute_result"
    }
   ],
   "source": [
    "collider.lhcb1_co_ref.match( # We use the reference line where there is no obstacle\n",
    "    method='4d',\n",
    "    ele_start='bpm.10r8.b1',\n",
    "    ele_stop='bpm.18r8.b1',\n",
    "    twiss_init=tw.get_twiss_init(at_element='bpm.10r8.b1'),\n",
    "    vary=[\n",
    "        xt.Vary(name='acbv11.r8b1', step=1e-10),\n",
    "        xt.Vary(name='acbv13.r8b1', step=1e-10),\n",
    "        xt.Vary(name='acbv15.r8b1', step=1e-10),\n",
    "        xt.Vary(name='acbv17.r8b1', step=1e-10),\n",
    "    ],\n",
    "    targets=[\n",
    "        # I want the vertical orbit to be at 10 mm from obstacle with flat angle\n",
    "        xt.Target('y', at=element_close_to_obstacle, value=10e-3, tol=1e-4, scale=1),\n",
    "        xt.Target('py', at=element_close_to_obstacle, value=0, tol=1e-6, scale=1000),\n",
    "        # I want the bump to be closed\n",
    "        xt.Target('y', at='bpm.18r8.b1', value=tw['y', 'bpm.18r8.b1'],\n",
    "                  tol=1e-6, scale=1),\n",
    "        xt.Target('py', at='bpm.18r8.b1', value=tw['py', 'bpm.18r8.b1'],\n",
    "                   tol=1e-7, scale=1000),\n",
    "    ]\n",
    ")"
   ]
  },
  {
   "cell_type": "markdown",
   "id": "0456f9b7",
   "metadata": {},
   "source": [
    "Plot the orbit after the correction"
   ]
  },
  {
   "cell_type": "code",
   "execution_count": 17,
   "id": "b1528a6e",
   "metadata": {},
   "outputs": [
    {
     "data": {
      "application/vnd.jupyter.widget-view+json": {
       "model_id": "f2c48739659941b19a58a73c62edfd28",
       "version_major": 2,
       "version_minor": 0
      },
      "text/plain": [
       "Canvas(toolbar=Toolbar(toolitems=[('Home', 'Reset original view', 'home', 'home'), ('Back', 'Back to previous …"
      ]
     },
     "metadata": {},
     "output_type": "display_data"
    },
    {
     "data": {
      "text/plain": [
       "<matplotlib.legend.Legend at 0x7f0a5f0e9d30>"
      ]
     },
     "execution_count": 17,
     "metadata": {},
     "output_type": "execute_result"
    }
   ],
   "source": [
    "tw_bump = collider.lhcb1_co_ref.twiss(method='4d')\n",
    "fig, ay = plt.subplots()\n",
    "\n",
    "ay.plot(tw.s, tw.y*1000, label='y (before)')\n",
    "ay.plot(tw_bump.s, tw_bump.y*1000, label='y (after)')\n",
    "\n",
    "# Obstacle\n",
    "ay.axvline(x=collider.lhcb1.get_s_position('obstacle'), color='r', linestyle='-', alpha=0.5, label='obstacle')\n",
    "\n",
    "# Vertical correctors\n",
    "ay.axvline(x=collider.lhcb1.get_s_position('mcbv.11r8.b1'), color='k', linestyle='--', alpha=0.5, label='mcbv.11r8.b1')\n",
    "ay.axvline(x=collider.lhcb1.get_s_position('mcbv.13r8.b1'), color='k', linestyle='--', alpha=0.5, label='mcbv.13r8.b1')\n",
    "ay.axvline(x=collider.lhcb1.get_s_position('mcbv.15r8.b1'), color='k', linestyle='--', alpha=0.5, label='mcbv.15r8.b1')\n",
    "ay.axvline(x=collider.lhcb1.get_s_position('mcbv.17r8.b1'), color='k', linestyle='--', alpha=0.5, label='mcbv.17r8.b1')\n",
    "\n",
    "# Vertical match limit elements\n",
    "ay.axvline(x=collider.lhcb1.get_s_position('bpm.10r8.b1'), color='g', linestyle='--', alpha=0.5, label='bpm.10r8.b1')\n",
    "ay.axvline(x=collider.lhcb1.get_s_position('bpm.18r8.b1'), color='g', linestyle='--', alpha=0.5, label='bpm.18r8.b1')\n",
    "\n",
    "#ay.axhline(y=18., color='b', linestyle='-', alpha=0.5, label='aperture limit')\n",
    "\n",
    "ay.set_xlim(collider.lhcb1.get_s_position('bpm.10r8.b1') - 10,\n",
    "            collider.lhcb1.get_s_position('bpm.18r8.b1') + 10)\n",
    "\n",
    "\n",
    "ay.set_xlabel('s [m]')\n",
    "ay.set_ylabel('y [mm]')\n",
    "ay.set_ylim(-0.5, 25)\n",
    "fig.tight_layout()\n",
    "fig.subplots_adjust(right=0.75)\n",
    "fig.legend(loc='right')"
   ]
  },
  {
   "cell_type": "markdown",
   "id": "5536e555",
   "metadata": {},
   "source": [
    "We track the particles again"
   ]
  },
  {
   "cell_type": "code",
   "execution_count": 18,
   "id": "75c3b76b",
   "metadata": {},
   "outputs": [
    {
     "name": "stdout",
     "output_type": "stream",
     "text": [
      "Lost beam fraction: 100.00%\n"
     ]
    }
   ],
   "source": [
    "bunch = bunch0.copy()\n",
    "collider.lhcb1.track(bunch, num_turns=5)\n",
    "print(f'Lost beam fraction: {np.sum(bunch.state <= 0)/num_particles*100:.2f}%')"
   ]
  },
  {
   "cell_type": "markdown",
   "id": "e1690be0",
   "metadata": {},
   "source": [
    "We lost the whole bunch!!!! What is happening?\n",
    "\n",
    "Let's add in the plot the vertical beam pipe size"
   ]
  },
  {
   "cell_type": "code",
   "execution_count": null,
   "id": "cfae0de7",
   "metadata": {},
   "outputs": [],
   "source": []
  },
  {
   "cell_type": "code",
   "execution_count": 34,
   "id": "b7e111f9",
   "metadata": {},
   "outputs": [
    {
     "data": {
      "application/vnd.jupyter.widget-view+json": {
       "model_id": "fb9d42de239843768b18bd0f5e555583",
       "version_major": 2,
       "version_minor": 0
      },
      "text/plain": [
       "Canvas(toolbar=Toolbar(toolitems=[('Home', 'Reset original view', 'home', 'home'), ('Back', 'Back to previous …"
      ]
     },
     "metadata": {},
     "output_type": "display_data"
    },
    {
     "data": {
      "text/plain": [
       "<matplotlib.legend.Legend at 0x7f9803444a60>"
      ]
     },
     "execution_count": 34,
     "metadata": {},
     "output_type": "execute_result"
    }
   ],
   "source": [
    "\n",
    "fig, ay = plt.subplots()\n",
    "\n",
    "ay.plot(tw.s, tw.y*1000, label='y (before)')\n",
    "ay.plot(tw_bump.s, tw_bump.y*1000, label='y (after)')\n",
    "\n",
    "# Obstacle\n",
    "ay.axvline(x=collider.lhcb1.get_s_position('obstacle'), color='r', linestyle='-', alpha=0.5, label='obstacle')\n",
    "\n",
    "# Vertical correctors\n",
    "ay.axvline(x=collider.lhcb1.get_s_position('mcbv.11r8.b1'), color='k', linestyle='--', alpha=0.5, label='mcbv.11r8.b1')\n",
    "ay.axvline(x=collider.lhcb1.get_s_position('mcbv.13r8.b1'), color='k', linestyle='--', alpha=0.5, label='mcbv.13r8.b1')\n",
    "ay.axvline(x=collider.lhcb1.get_s_position('mcbv.15r8.b1'), color='k', linestyle='--', alpha=0.5, label='mcbv.15r8.b1')\n",
    "ay.axvline(x=collider.lhcb1.get_s_position('mcbv.17r8.b1'), color='k', linestyle='--', alpha=0.5, label='mcbv.17r8.b1')\n",
    "\n",
    "# Vertical match limit elements\n",
    "ay.axvline(x=collider.lhcb1.get_s_position('bpm.10r8.b1'), color='g', linestyle='--', alpha=0.5, label='bpm.10r8.b1')\n",
    "ay.axvline(x=collider.lhcb1.get_s_position('bpm.18r8.b1'), color='g', linestyle='--', alpha=0.5, label='bpm.18r8.b1')\n",
    "\n",
    "ay.axhline(y=18., color='b', linestyle='-', alpha=0.5, label='aperture limit')\n",
    "\n",
    "ay.set_xlim(collider.lhcb1.get_s_position('bpm.10r8.b1') - 10,\n",
    "            collider.lhcb1.get_s_position('bpm.18r8.b1') + 10)\n",
    "\n",
    "\n",
    "ay.set_xlabel('s [m]')\n",
    "ay.set_ylabel('y [mm]')\n",
    "ay.set_ylim(-0.5, 25)\n",
    "fig.tight_layout()\n",
    "fig.subplots_adjust(right=0.75)\n",
    "fig.legend(loc='right')"
   ]
  },
  {
   "cell_type": "markdown",
   "id": "f74630c6",
   "metadata": {},
   "source": [
    "We manage to pass the obstacle but we are bent far off by the defocusing quadrupole"
   ]
  },
  {
   "cell_type": "code",
   "execution_count": 19,
   "id": "eec21f19",
   "metadata": {},
   "outputs": [
    {
     "name": "stdout",
     "output_type": "stream",
     "text": [
      "Matching: twiss call n. 14       \n",
      "\n"
     ]
    },
    {
     "data": {
      "text/plain": [
       "{'res': array([2.11665918e-05, 7.40394440e-06, 2.07571017e-05, 8.09603781e-06]),\n",
       " 'info': {'nfev': 3,\n",
       "  'njev': 1,\n",
       "  'fjac': array([[-0.01512451,  0.3444248 ,  0.02430979, -0.93837724],\n",
       "         [-0.06479773, -0.93645396,  0.04769374, -0.34143892],\n",
       "         [ 0.92790144, -0.06513277, -0.36390212, -0.04828952],\n",
       "         [ 0.36683977,  0.01353713,  0.92989762,  0.0231462 ]]),\n",
       "  'r': array([-2438.50452874,  1762.44255705,  2222.08152909,  -937.18815497,\n",
       "         -1907.82717614,   809.60368005,  -339.21864413,    92.78877315,\n",
       "           -65.83203107,    67.96605881]),\n",
       "  'qtf': array([-6.68232883e-05,  3.01626059e-04,  1.15169544e-05, -9.12747466e-07]),\n",
       "  'fvec': array([-0., -0., -0.,  0.])},\n",
       " 'ier': 1,\n",
       " 'mesg': 'The solution converged.'}"
      ]
     },
     "execution_count": 19,
     "metadata": {},
     "output_type": "execute_result"
    }
   ],
   "source": [
    "# Less aggressive bump\n",
    "collider.lhcb1_co_ref.match(\n",
    "    method='4d',\n",
    "    ele_start='bpm.10r8.b1',\n",
    "    ele_stop='bpm.18r8.b1',\n",
    "    twiss_init=tw.get_twiss_init(at_element='bpm.10r8.b1'),\n",
    "    vary=[\n",
    "        xt.Vary(name='acbv11.r8b1', step=1e-10),\n",
    "        xt.Vary(name='acbv13.r8b1', step=1e-10),\n",
    "        xt.Vary(name='acbv15.r8b1', step=1e-10),\n",
    "        xt.Vary(name='acbv17.r8b1', step=1e-10),\n",
    "    ],\n",
    "    targets=[\n",
    "        # I want the vertical orbit to be at 1.5 mm from obstacle with flat angle\n",
    "        xt.Target('y', at=element_close_to_obstacle, value=1.5e-3, tol=1e-4, scale=1),\n",
    "        xt.Target('py', at=element_close_to_obstacle, value=0, tol=1e-6, scale=1000),\n",
    "        # I want the bump to be closed\n",
    "        xt.Target('y', at='bpm.18r8.b1', value=tw['y', 'bpm.18r8.b1'],\n",
    "                  tol=1e-6, scale=1),\n",
    "        xt.Target('py', at='bpm.18r8.b1', value=tw['py', 'bpm.18r8.b1'],\n",
    "                   tol=1e-7, scale=1000),\n",
    "    ]\n",
    ")"
   ]
  },
  {
   "cell_type": "code",
   "execution_count": 20,
   "id": "d2aa4b74",
   "metadata": {},
   "outputs": [
    {
     "name": "stdout",
     "output_type": "stream",
     "text": [
      "Lost beam fraction: 1.00%\n"
     ]
    }
   ],
   "source": [
    "# Let's try to track again\n",
    "bunch = bunch0.copy()\n",
    "collider.lhcb1.track(bunch, num_turns=5)\n",
    "print(f'Lost beam fraction: {np.sum(bunch.state <= 0)/num_particles*100:.2f}%')"
   ]
  },
  {
   "cell_type": "markdown",
   "id": "77918526",
   "metadata": {},
   "source": [
    "There are still some losses. We can plot the beam at the obstacle, to see what happens. To do that, we need to insert a monitor at the obstacle:"
   ]
  },
  {
   "cell_type": "code",
   "execution_count": 21,
   "id": "1ab6d5f5",
   "metadata": {},
   "outputs": [
    {
     "data": {
      "text/plain": [
       "<xtrack.line.Line at 0x7f0a5dd45af0>"
      ]
     },
     "execution_count": 21,
     "metadata": {},
     "output_type": "execute_result"
    }
   ],
   "source": [
    "collider.lhcb1.discard_tracker()\n",
    "monitor_obstacle = xt.ParticlesMonitor(start_at_turn=0, stop_at_turn=4,\n",
    "                                       num_particles=num_particles)\n",
    "collider.lhcb1.insert_element(\n",
    "    index='obstacle',\n",
    "    element=monitor_obstacle,\n",
    "    name='monitor_obstacle',\n",
    ")\n"
   ]
  },
  {
   "cell_type": "code",
   "execution_count": 22,
   "id": "7e26095c",
   "metadata": {},
   "outputs": [
    {
     "name": "stdout",
     "output_type": "stream",
     "text": [
      "Compiling ContextCpu kernels...\n",
      "Done compiling ContextCpu kernels.\n"
     ]
    }
   ],
   "source": [
    "collider.lhcb1.build_tracker()\n",
    "bunch = bunch0.copy()\n",
    "collider.lhcb1.track(bunch, num_turns=5)"
   ]
  },
  {
   "cell_type": "code",
   "execution_count": 23,
   "id": "6865bd11",
   "metadata": {},
   "outputs": [
    {
     "data": {
      "application/vnd.jupyter.widget-view+json": {
       "model_id": "2cac2d34652541338c8ae5f890ebdab3",
       "version_major": 2,
       "version_minor": 0
      },
      "text/plain": [
       "Canvas(toolbar=Toolbar(toolitems=[('Home', 'Reset original view', 'home', 'home'), ('Back', 'Back to previous …"
      ]
     },
     "metadata": {},
     "output_type": "display_data"
    },
    {
     "data": {
      "text/plain": [
       "[<matplotlib.lines.Line2D at 0x7f0a5c6f47f0>]"
      ]
     },
     "execution_count": 23,
     "metadata": {},
     "output_type": "execute_result"
    }
   ],
   "source": [
    "obstacle = collider.lhcb1['obstacle']\n",
    "fig, ax = plt.subplots()\n",
    "ax.plot(monitor_obstacle.x, monitor_obstacle.y, '.', markersize=1)\n",
    "ax.plot(obstacle.x_vertices, obstacle.y_vertices, 'k')"
   ]
  },
  {
   "cell_type": "markdown",
   "id": "9a3c51fa",
   "metadata": {},
   "source": [
    "Some particles are still lost at the obstacle. We can shift the beam a little horizontaly to fix this issue completely. As before, we find the knob that controls the horizontal corrector close to the beam."
   ]
  },
  {
   "cell_type": "code",
   "execution_count": 24,
   "id": "1b976526",
   "metadata": {},
   "outputs": [
    {
     "data": {
      "text/plain": [
       "TwissTable: 6 rows, 47 cols\n",
       "name                               s           x           px            y ...\n",
       "mcbh.12r8.b1                 17154.4 2.68505e-06  -3.8315e-08  5.64296e-08\n",
       "mcbh.14r8.b1                 17261.3 2.66895e-06 -3.54758e-08 -9.29942e-08\n",
       "obstacle                     17301.2 1.59437e-06 -1.82169e-08 -2.19192e-07\n",
       "mcbh.16r8.b1                 17368.2 3.14394e-06  -4.1771e-08  -5.6977e-08\n",
       "mcbh.18r8.b1                 17475.1 3.17905e-06 -4.49976e-08   9.2981e-08\n",
       "mcbh.20r8.b1                   17582 2.70406e-06  -3.8703e-08  5.69987e-08"
      ]
     },
     "execution_count": 24,
     "metadata": {},
     "output_type": "execute_result"
    }
   ],
   "source": [
    "tw.rows[s_obstacle-300.:s_obstacle+300.:'s', 'mcbh.*|obstacle']"
   ]
  },
  {
   "cell_type": "code",
   "execution_count": 25,
   "id": "2c741658",
   "metadata": {},
   "outputs": [
    {
     "data": {
      "text/plain": [
       "(-vars['acbh14.r8b1'])"
      ]
     },
     "execution_count": 25,
     "metadata": {},
     "output_type": "execute_result"
    }
   ],
   "source": [
    "h_corr = 'mcbh.14r8.b1'\n",
    "collider.lhcb1.element_refs[h_corr].knl[0]._expr"
   ]
  },
  {
   "cell_type": "markdown",
   "id": "4434ac14",
   "metadata": {},
   "source": [
    "Match again:"
   ]
  },
  {
   "cell_type": "code",
   "execution_count": 26,
   "id": "86aeac31",
   "metadata": {},
   "outputs": [
    {
     "name": "stdout",
     "output_type": "stream",
     "text": [
      "Matching: twiss call n. 14       \n",
      "\n"
     ]
    },
    {
     "data": {
      "text/plain": [
       "{'res': array([-1.73924801e-05, -4.09524495e-05, -1.68483461e-05, -4.10394690e-05]),\n",
       " 'info': {'nfev': 3,\n",
       "  'njev': 1,\n",
       "  'fjac': array([[-0.05221423,  0.92844264,  0.00177971, -0.3677836 ],\n",
       "         [ 0.05938394, -0.36297189, -0.09363506, -0.92517967],\n",
       "         [ 0.36154947,  0.0592123 , -0.9257441 ,  0.09366822],\n",
       "         [ 0.92899365,  0.05234099,  0.36637025,  0.00201463]]),\n",
       "  'r': array([-2540.1688211 ,  1812.0392203 ,   343.38147178,  -876.02017194,\n",
       "          1875.62537899,   863.05945387, -2224.21326179,   -92.16310409,\n",
       "            64.28227243,    67.93953527]),\n",
       "  'qtf': array([-3.80194273e-04, -5.97367310e-04,  4.36203199e-05, -1.73197346e-06]),\n",
       "  'fvec': array([-0., -0., -0., -0.])},\n",
       " 'ier': 1,\n",
       " 'mesg': 'The solution converged.'}"
      ]
     },
     "execution_count": 26,
     "metadata": {},
     "output_type": "execute_result"
    }
   ],
   "source": [
    "collider.lhcb1_co_ref.match(\n",
    "    method='4d',\n",
    "    ele_start='bpm.10r8.b1',\n",
    "    ele_stop='bpm.20r8.b1',\n",
    "    twiss_init=tw.get_twiss_init(at_element='bpm.10r8.b1'),\n",
    "    vary=[\n",
    "        xt.Vary(name='acbh12.r8b1', step=1e-10),\n",
    "        xt.Vary(name='acbh14.r8b1', step=1e-10),\n",
    "        xt.Vary(name='acbh16.r8b1', step=1e-10),\n",
    "        xt.Vary(name='acbh18.r8b1', step=1e-10),\n",
    "    ],\n",
    "    targets=[\n",
    "        # I want the vertical orbit to be at 1 mm from obstacle with flat angle\n",
    "        xt.Target('x', at=element_close_to_obstacle, value=-3e-3, tol=1e-4, scale=1),\n",
    "        xt.Target('px', at=element_close_to_obstacle, value=0, tol=1e-6, scale=1000),\n",
    "        # I want the bump to be closed\n",
    "        xt.Target('x', at='bpm.20r8.b1', value=tw['x', 'bpm.20r8.b1'],\n",
    "                  tol=1e-6, scale=1),\n",
    "        xt.Target('px', at='bpm.20r8.b1', value=tw['px', 'bpm.20r8.b1'],\n",
    "                   tol=1e-7, scale=1000),\n",
    "    ]\n",
    ")"
   ]
  },
  {
   "cell_type": "markdown",
   "id": "17170c68",
   "metadata": {},
   "source": [
    "Track and inspect the beam again, this time there should be no losses:"
   ]
  },
  {
   "cell_type": "code",
   "execution_count": 28,
   "id": "3c23d0b3",
   "metadata": {},
   "outputs": [
    {
     "data": {
      "application/vnd.jupyter.widget-view+json": {
       "model_id": "c639cbb96dec43199080eed1103566c5",
       "version_major": 2,
       "version_minor": 0
      },
      "text/plain": [
       "Canvas(toolbar=Toolbar(toolitems=[('Home', 'Reset original view', 'home', 'home'), ('Back', 'Back to previous …"
      ]
     },
     "metadata": {},
     "output_type": "display_data"
    },
    {
     "name": "stdout",
     "output_type": "stream",
     "text": [
      "Lost beam fraction: 0.00%\n"
     ]
    }
   ],
   "source": [
    "bunch = bunch0.copy()\n",
    "collider.lhcb1.track(bunch, num_turns=5)\n",
    "\n",
    "# See the beam at the obstacle:\n",
    "obstacle = collider.lhcb1['obstacle']\n",
    "fig, ax = plt.subplots()\n",
    "ax.plot(monitor_obstacle.x, monitor_obstacle.y, '.', markersize=1)\n",
    "ax.plot(obstacle.x_vertices, obstacle.y_vertices, 'k')\n",
    "\n",
    "# We don't lose so many particles anymore\n",
    "print(f'Lost beam fraction: {np.sum(bunch.state <= 0)/num_particles*100:.2f}%')"
   ]
  },
  {
   "cell_type": "code",
   "execution_count": 29,
   "id": "1d0443fa",
   "metadata": {},
   "outputs": [],
   "source": [
    "tw_corrected = collider.lhcb1.twiss()"
   ]
  },
  {
   "cell_type": "code",
   "execution_count": 30,
   "id": "fd13c336",
   "metadata": {},
   "outputs": [
    {
     "data": {
      "application/vnd.jupyter.widget-view+json": {
       "model_id": "33703f690e3a46df9ee0fcbf61d401c2",
       "version_major": 2,
       "version_minor": 0
      },
      "text/plain": [
       "Canvas(toolbar=Toolbar(toolitems=[('Home', 'Reset original view', 'home', 'home'), ('Back', 'Back to previous …"
      ]
     },
     "metadata": {},
     "output_type": "display_data"
    }
   ],
   "source": [
    "fig, (ax, ay) = plt.subplots(nrows=2, ncols=1, sharex=True)\n",
    "\n",
    "# ==X==\n",
    "ax.plot(tw.s, tw.x*1000, label='x (before)')\n",
    "ax.plot(tw_corrected.s, tw_corrected.x*1000, label='x (after)')\n",
    "\n",
    "# Obstacle\n",
    "ax.axvline(x=collider.lhcb1.get_s_position('obstacle'), color='r', linestyle='-', alpha=0.5, label='obstacle')\n",
    "\n",
    "# Horizontal correctors\n",
    "ax.axvline(x=collider.lhcb1.get_s_position('mcbh.12r8.b1'), color='k', linestyle='--', alpha=0.5, label='mcbh.12r8.b1')\n",
    "ax.axvline(x=collider.lhcb1.get_s_position('mcbh.14r8.b1'), color='k', linestyle='--', alpha=0.5, label='mcbh.14r8.b1')\n",
    "ax.axvline(x=collider.lhcb1.get_s_position('mcbh.16r8.b1'), color='k', linestyle='--', alpha=0.5, label='mcbh.16r8.b1')\n",
    "ax.axvline(x=collider.lhcb1.get_s_position('mcbh.18r8.b1'), color='k', linestyle='--', alpha=0.5, label='mcbh.18r8.b1')\n",
    "\n",
    "# Horizontal match limit elements\n",
    "ax.axvline(x=collider.lhcb1.get_s_position('bpm.10r8.b1'), color='g', linestyle='--', alpha=0.5, label='bpm.10r8.b1')\n",
    "ax.axvline(x=collider.lhcb1.get_s_position('bpm.20r8.b1'), color='g', linestyle='--', alpha=0.5, label='bpm.20r8.b1')\n",
    "\n",
    "# Aperture limit\n",
    "ax.axhline(y=22., color='b', linestyle='-', alpha=0.5)\n",
    "ax.axhline(y=-22., color='b', linestyle='-', alpha=0.5)\n",
    "\n",
    "ax.set_ylabel('x [mm]')\n",
    "ax.set_ylim(-10, 0.5)\n",
    "ay.set_xlim(collider.lhcb1.get_s_position('bpm.10r8.b1') - 10,\n",
    "            collider.lhcb1.get_s_position('bpm.20r8.b1') + 10)\n",
    "ax.legend(loc='right', bbox_to_anchor=(1.4, 0.5))\n",
    "\n",
    "\n",
    "# ==Y==\n",
    "ay.plot(tw.s, tw.y*1000, label='y (before)')\n",
    "ay.plot(tw_corrected.s, tw_corrected.y*1000, label='y (after)')\n",
    "\n",
    "# Obstacle\n",
    "ay.axvline(x=collider.lhcb1.get_s_position('obstacle'), color='r', linestyle='-', alpha=0.5, label='obstacle')\n",
    "\n",
    "# Vertical correctors\n",
    "ay.axvline(x=collider.lhcb1.get_s_position('mcbv.11r8.b1'), color='k', linestyle='--', alpha=0.5, label='mcbv.11r8.b1')\n",
    "ay.axvline(x=collider.lhcb1.get_s_position('mcbv.13r8.b1'), color='k', linestyle='--', alpha=0.5, label='mcbv.13r8.b1')\n",
    "ay.axvline(x=collider.lhcb1.get_s_position('mcbv.15r8.b1'), color='k', linestyle='--', alpha=0.5, label='mcbv.15r8.b1')\n",
    "ay.axvline(x=collider.lhcb1.get_s_position('mcbv.17r8.b1'), color='k', linestyle='--', alpha=0.5, label='mcbv.17r8.b1')\n",
    "\n",
    "# Vertical match limit elements\n",
    "ay.axvline(x=collider.lhcb1.get_s_position('bpm.10r8.b1'), color='g', linestyle='--', alpha=0.5, label='bpm.10r8.b1')\n",
    "ay.axvline(x=collider.lhcb1.get_s_position('bpm.18r8.b1'), color='g', linestyle='--', alpha=0.5, label='bpm.18r8.b1')\n",
    "\n",
    "# Aperture limit\n",
    "ay.axhline(y=18., color='b', linestyle='-', alpha=0.5)\n",
    "ay.axhline(y=-18., color='b', linestyle='-', alpha=0.5)\n",
    "ay.legend(loc='right', bbox_to_anchor=(1.4, 0.5))\n",
    "\n",
    "\n",
    "ay.set_xlabel('s [m]')\n",
    "ay.set_ylabel('y [mm]')\n",
    "ay.set_ylim(-0.5, 10)\n",
    "fig.subplots_adjust(right=0.75)"
   ]
  },
  {
   "cell_type": "code",
   "execution_count": null,
   "id": "3c131754",
   "metadata": {},
   "outputs": [],
   "source": [
    "np.trapz(tw.betx, tw.s)/tw.circumference"
   ]
  },
  {
   "cell_type": "code",
   "execution_count": null,
   "id": "f7bab11d",
   "metadata": {},
   "outputs": [],
   "source": []
  }
 ],
 "metadata": {
  "kernelspec": {
   "display_name": "Python 3",
   "language": "python",
   "name": "python3"
  },
  "language_info": {
   "codemirror_mode": {
    "name": "ipython",
    "version": 3
   },
   "file_extension": ".py",
   "mimetype": "text/x-python",
   "name": "python",
   "nbconvert_exporter": "python",
   "pygments_lexer": "ipython3",
   "version": "3.9.12"
  }
 },
 "nbformat": 4,
 "nbformat_minor": 5
}
