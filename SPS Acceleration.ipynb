{
 "cells": [
  {
   "cell_type": "code",
   "execution_count": 8,
   "id": "6901ca9d",
   "metadata": {},
   "outputs": [
    {
     "name": "stdout",
     "output_type": "stream",
     "text": [
      "Done loading line from dict.           \n"
     ]
    }
   ],
   "source": [
    "%matplotlib widget\n",
    "import ipympl\n",
    "import json\n",
    "\n",
    "import numpy as np\n",
    "import matplotlib.pyplot as plt\n",
    "from scipy.constants import c as clight\n",
    "\n",
    "import xpart as xp\n",
    "import xtrack as xt\n",
    "\n",
    "fname_line = './generate_models/sps_acceleration.json'\n",
    "with open(fname_line, 'r') as fid:\n",
    "     model_data = json.load(fid)\n",
    "\n",
    "line = xt.Line.from_dict(model_data['line'])"
   ]
  },
  {
   "cell_type": "markdown",
   "id": "81372c02",
   "metadata": {},
   "source": [
    "## No acceleration\n",
    "\n",
    "Build the tracker and some particles:"
   ]
  },
  {
   "cell_type": "code",
   "execution_count": 9,
   "id": "f750c823",
   "metadata": {},
   "outputs": [
    {
     "name": "stdout",
     "output_type": "stream",
     "text": [
      "Compiling ContextCpu kernels...\n",
      "Done compiling ContextCpu kernels.\n"
     ]
    }
   ],
   "source": [
    "line.build_tracker()\n",
    "\n",
    "particles = xp.Particles(p0c=26e9, delta=np.linspace(-4e-3, 4e-3, 40))\n",
    "line.track(particles, num_turns=500, turn_by_turn_monitor=True)"
   ]
  },
  {
   "cell_type": "markdown",
   "id": "6af2f064",
   "metadata": {},
   "source": [
    "Let's start by plotting the longitudinal phase space without acceleration:"
   ]
  },
  {
   "cell_type": "code",
   "execution_count": 10,
   "id": "0de30192",
   "metadata": {},
   "outputs": [
    {
     "data": {
      "application/vnd.jupyter.widget-view+json": {
       "model_id": "76a645d275804a7dbcfdb1d23c32143a",
       "version_major": 2,
       "version_minor": 0
      },
      "text/plain": [
       "Canvas(toolbar=Toolbar(toolitems=[('Home', 'Reset original view', 'home', 'home'), ('Back', 'Back to previous …"
      ]
     },
     "metadata": {},
     "output_type": "display_data"
    },
    {
     "data": {
      "text/plain": [
       "Text(0, 0.5, '$\\\\Delta p / p_0$')"
      ]
     },
     "execution_count": 10,
     "metadata": {},
     "output_type": "execute_result"
    }
   ],
   "source": [
    "rec = line.record_last_track\n",
    "\n",
    "## Plot:\n",
    "fig, ax = plt.subplots()\n",
    "fig.suptitle('Longitudinal phase space')\n",
    "\n",
    "for ii in range(rec.x.shape[0]):\n",
    "    mask = rec.state[ii, :]>0\n",
    "    ax.plot(rec.zeta[ii, mask], rec.delta[ii, mask])\n",
    "\n",
    "ax.grid(linestyle='--')\n",
    "ax.set_xlabel('z [m]')\n",
    "ax.set_ylabel(r'$\\Delta p / p_0$')"
   ]
  },
  {
   "cell_type": "markdown",
   "id": "c268264a",
   "metadata": {},
   "source": [
    "## With acceleration\n",
    "\n",
    "Add an element that will increase the energy at the end of each turn:"
   ]
  },
  {
   "cell_type": "code",
   "execution_count": 11,
   "id": "575919a8",
   "metadata": {},
   "outputs": [
    {
     "data": {
      "text/plain": [
       "<xtrack.line.Line at 0x7f76c68251f0>"
      ]
     },
     "execution_count": 11,
     "metadata": {},
     "output_type": "execute_result"
    }
   ],
   "source": [
    "line.unfreeze()  # to modify the line we discard the current tracker\n",
    "\n",
    "T_rev = 23e-6 # 23 us\n",
    "Delta_p0c = 400e9 / 10 * T_rev # energy increase per turn (400 GeV in 10 s)\n",
    "\n",
    "energy_increase = xt.ReferenceEnergyIncrease(Delta_p0c=Delta_p0c)\n",
    "line.append_element(energy_increase, 'energy_increase')"
   ]
  },
  {
   "cell_type": "markdown",
   "id": "c8604b59",
   "metadata": {},
   "source": [
    "Build the tracker and track some particles"
   ]
  },
  {
   "cell_type": "code",
   "execution_count": 12,
   "id": "0faf365f",
   "metadata": {},
   "outputs": [
    {
     "name": "stdout",
     "output_type": "stream",
     "text": [
      "Compiling ContextCpu kernels...\n",
      "Done compiling ContextCpu kernels.\n"
     ]
    }
   ],
   "source": [
    "line.build_tracker()\n",
    "\n",
    "particles = xp.Particles(p0c=26e9, delta=np.linspace(-4e-3, 4e-3, 40))\n",
    "line.track(particles, num_turns=500, turn_by_turn_monitor=True)"
   ]
  },
  {
   "cell_type": "markdown",
   "id": "06e7496f",
   "metadata": {},
   "source": [
    "Plot our phase space"
   ]
  },
  {
   "cell_type": "code",
   "execution_count": 13,
   "id": "e2a4bd78",
   "metadata": {},
   "outputs": [
    {
     "data": {
      "application/vnd.jupyter.widget-view+json": {
       "model_id": "22af02837e054ea9b0540d4175fcf53f",
       "version_major": 2,
       "version_minor": 0
      },
      "text/plain": [
       "Canvas(toolbar=Toolbar(toolitems=[('Home', 'Reset original view', 'home', 'home'), ('Back', 'Back to previous …"
      ]
     },
     "metadata": {},
     "output_type": "display_data"
    },
    {
     "data": {
      "text/plain": [
       "<matplotlib.lines.Line2D at 0x7f7690408430>"
      ]
     },
     "execution_count": 13,
     "metadata": {},
     "output_type": "execute_result"
    }
   ],
   "source": [
    "rec = line.record_last_track\n",
    "\n",
    "fig, ax = plt.subplots()\n",
    "fig.suptitle('Longitudinal phase space')\n",
    "\n",
    "for ii in range(rec.x.shape[0]):\n",
    "    mask = rec.state[ii, :]>0\n",
    "    ax.plot(rec.zeta[ii, mask], rec.delta[ii, mask])\n",
    "\n",
    "ax.grid(linestyle='--')\n",
    "ax.set_xlabel('z [m]')\n",
    "ax.set_ylabel(r'$\\Delta p / p_0$')\n",
    "\n",
    "# Assume only first cavity is active\n",
    "frequency = line.get_elements_of_type(xt.Cavity)[0][0].frequency\n",
    "voltage = line.get_elements_of_type(xt.Cavity)[0][0].voltage\n",
    "#Assuming proton and beta=1\n",
    "stable_z = np.arcsin(Delta_p0c/voltage)/frequency/2/np.pi*clight\n",
    "\n",
    "p_co = line.find_closed_orbit(particle_ref=xp.Particles.from_dict(model_data['particle']))\n",
    "\n",
    "assert np.isclose(p_co.zeta, stable_z, atol=0, rtol=1e-2)\n",
    "\n",
    "ax.axvline(x=stable_z, color='black', linestyle='--')"
   ]
  },
  {
   "cell_type": "code",
   "execution_count": null,
   "id": "7fd26819",
   "metadata": {},
   "outputs": [],
   "source": []
  }
 ],
 "metadata": {
  "kernelspec": {
   "display_name": "Python 3",
   "language": "python",
   "name": "python3"
  },
  "language_info": {
   "codemirror_mode": {
    "name": "ipython",
    "version": 3
   },
   "file_extension": ".py",
   "mimetype": "text/x-python",
   "name": "python",
   "nbconvert_exporter": "python",
   "pygments_lexer": "ipython3",
   "version": "3.9.12"
  }
 },
 "nbformat": 4,
 "nbformat_minor": 5
}
